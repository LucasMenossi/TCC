{
 "cells": [
  {
   "cell_type": "code",
   "execution_count": 1,
   "metadata": {
    "scrolled": true
   },
   "outputs": [
    {
     "name": "stderr",
     "output_type": "stream",
     "text": [
      "C:\\Users\\Lucas Menossi\\Anaconda3\\lib\\site-packages\\statsmodels\\tools\\_testing.py:19: FutureWarning: pandas.util.testing is deprecated. Use the functions in the public API at pandas.testing instead.\n",
      "  import pandas.util.testing as tm\n"
     ]
    },
    {
     "data": {
      "text/html": [
       "<div>\n",
       "<style scoped>\n",
       "    .dataframe tbody tr th:only-of-type {\n",
       "        vertical-align: middle;\n",
       "    }\n",
       "\n",
       "    .dataframe tbody tr th {\n",
       "        vertical-align: top;\n",
       "    }\n",
       "\n",
       "    .dataframe thead th {\n",
       "        text-align: right;\n",
       "    }\n",
       "</style>\n",
       "<table border=\"1\" class=\"dataframe\">\n",
       "  <thead>\n",
       "    <tr style=\"text-align: right;\">\n",
       "      <th></th>\n",
       "      <th>Data</th>\n",
       "      <th>Nr Frota</th>\n",
       "      <th>Placa</th>\n",
       "      <th>Tipo</th>\n",
       "      <th>Produto</th>\n",
       "      <th>Nr Litros</th>\n",
       "      <th>Valor Abast.</th>\n",
       "    </tr>\n",
       "  </thead>\n",
       "  <tbody>\n",
       "    <tr>\n",
       "      <th>0</th>\n",
       "      <td>02/03/2020</td>\n",
       "      <td>79440</td>\n",
       "      <td>ATM-6450</td>\n",
       "      <td>Abast</td>\n",
       "      <td>GASOLINA</td>\n",
       "      <td>48.310</td>\n",
       "      <td>216.92</td>\n",
       "    </tr>\n",
       "    <tr>\n",
       "      <th>1</th>\n",
       "      <td>02/03/2020</td>\n",
       "      <td>31102</td>\n",
       "      <td>AZR-9543</td>\n",
       "      <td>Abast</td>\n",
       "      <td>DIESEL</td>\n",
       "      <td>172.680</td>\n",
       "      <td>637.20</td>\n",
       "    </tr>\n",
       "    <tr>\n",
       "      <th>2</th>\n",
       "      <td>02/03/2020</td>\n",
       "      <td>78012</td>\n",
       "      <td>AKF-2842</td>\n",
       "      <td>Abast</td>\n",
       "      <td>DIESEL</td>\n",
       "      <td>106.250</td>\n",
       "      <td>392.07</td>\n",
       "    </tr>\n",
       "    <tr>\n",
       "      <th>3</th>\n",
       "      <td>02/03/2020</td>\n",
       "      <td>79441</td>\n",
       "      <td>ATM-6449</td>\n",
       "      <td>Abast</td>\n",
       "      <td>GASOLINA</td>\n",
       "      <td>48.900</td>\n",
       "      <td>219.57</td>\n",
       "    </tr>\n",
       "    <tr>\n",
       "      <th>4</th>\n",
       "      <td>02/03/2020</td>\n",
       "      <td>79465</td>\n",
       "      <td>BCD-6526</td>\n",
       "      <td>Abast</td>\n",
       "      <td>GASOLINA</td>\n",
       "      <td>39.210</td>\n",
       "      <td>176.06</td>\n",
       "    </tr>\n",
       "    <tr>\n",
       "      <th>...</th>\n",
       "      <td>...</td>\n",
       "      <td>...</td>\n",
       "      <td>...</td>\n",
       "      <td>...</td>\n",
       "      <td>...</td>\n",
       "      <td>...</td>\n",
       "      <td>...</td>\n",
       "    </tr>\n",
       "    <tr>\n",
       "      <th>143</th>\n",
       "      <td>18/03/2020</td>\n",
       "      <td>78012</td>\n",
       "      <td>AKF-2842</td>\n",
       "      <td>Abast</td>\n",
       "      <td>DIESEL</td>\n",
       "      <td>96.289</td>\n",
       "      <td>336.06</td>\n",
       "    </tr>\n",
       "    <tr>\n",
       "      <th>144</th>\n",
       "      <td>18/03/2020</td>\n",
       "      <td>79477</td>\n",
       "      <td>BDI6E74</td>\n",
       "      <td>Abast</td>\n",
       "      <td>DIESEL</td>\n",
       "      <td>87.261</td>\n",
       "      <td>304.55</td>\n",
       "    </tr>\n",
       "    <tr>\n",
       "      <th>145</th>\n",
       "      <td>18/03/2020</td>\n",
       "      <td>79473</td>\n",
       "      <td>AJU-6529</td>\n",
       "      <td>Abast</td>\n",
       "      <td>DIESEL</td>\n",
       "      <td>81.700</td>\n",
       "      <td>285.14</td>\n",
       "    </tr>\n",
       "    <tr>\n",
       "      <th>146</th>\n",
       "      <td>18/03/2020</td>\n",
       "      <td>79439</td>\n",
       "      <td>ATJ-8583</td>\n",
       "      <td>Abast</td>\n",
       "      <td>DIESEL</td>\n",
       "      <td>85.871</td>\n",
       "      <td>299.70</td>\n",
       "    </tr>\n",
       "    <tr>\n",
       "      <th>147</th>\n",
       "      <td>18/03/2020</td>\n",
       "      <td>79442</td>\n",
       "      <td>ATM-6233</td>\n",
       "      <td>Abast</td>\n",
       "      <td>DIESEL</td>\n",
       "      <td>76.851</td>\n",
       "      <td>268.22</td>\n",
       "    </tr>\n",
       "  </tbody>\n",
       "</table>\n",
       "<p>148 rows × 7 columns</p>\n",
       "</div>"
      ],
      "text/plain": [
       "           Data  Nr Frota     Placa   Tipo   Produto  Nr Litros  Valor Abast.\n",
       "0    02/03/2020     79440  ATM-6450  Abast  GASOLINA     48.310        216.92\n",
       "1    02/03/2020     31102  AZR-9543  Abast    DIESEL    172.680        637.20\n",
       "2    02/03/2020     78012  AKF-2842  Abast    DIESEL    106.250        392.07\n",
       "3    02/03/2020     79441  ATM-6449  Abast  GASOLINA     48.900        219.57\n",
       "4    02/03/2020     79465  BCD-6526  Abast  GASOLINA     39.210        176.06\n",
       "..          ...       ...       ...    ...       ...        ...           ...\n",
       "143  18/03/2020     78012  AKF-2842  Abast    DIESEL     96.289        336.06\n",
       "144  18/03/2020     79477   BDI6E74  Abast    DIESEL     87.261        304.55\n",
       "145  18/03/2020     79473  AJU-6529  Abast    DIESEL     81.700        285.14\n",
       "146  18/03/2020     79439  ATJ-8583  Abast    DIESEL     85.871        299.70\n",
       "147  18/03/2020     79442  ATM-6233  Abast    DIESEL     76.851        268.22\n",
       "\n",
       "[148 rows x 7 columns]"
      ]
     },
     "execution_count": 1,
     "metadata": {},
     "output_type": "execute_result"
    }
   ],
   "source": [
    "import pandas as pd\n",
    "import matplotlib.pyplot as plt\n",
    "import matplotlib.dates as mdates\n",
    "from matplotlib.ticker import FuncFormatter\n",
    "%matplotlib inline\n",
    "import numpy as np\n",
    "import seaborn as sns\n",
    "\n",
    "df = pd.concat(pd.read_excel(\"../Dados/202003.xlsx\", sheet_name=None), ignore_index=True)\n",
    "df['Unnamed: 10'] = df['Unnamed: 10'].fillna(df['Nr Litros'])\n",
    "df = df.rename(columns={\"Tipo   Lançamento  Nr. Ordem\\nAbast.\" : \"Tipo2\", \"Unnamed: 4\" : \"Lançamento\", 'Unnamed: 10' : 'Nr Litros', \"Valor        Numero Abast.\" : \"Valor Abast.\", \"Unnamed: 8\" : \"Lançamento\"})\n",
    "df['Tipo2'] = df['Tipo2'].fillna(df['Tipo'])\n",
    "df = df.dropna(axis=\"columns\")\n",
    "#pd.set_option('display.max_rows', df.shape[0]+1)\n",
    "df = df.drop(['EQAL', 'Exerc.', 'Exerc..1', 'Liquidação'], axis = 1)\n",
    "df = df.rename(columns={\"Tipo2\" : \"Tipo\"})\n",
    "df[\"Produto\"] = df[\"Produto\"].replace(\"ÁLCOOL COMBUSTÍVEL (ETANOL)\", \"ETANOL\")\n",
    "df[\"Produto\"] = df[\"Produto\"].replace(\"ÓLEO DIESEL S-10\", \"DIESEL\")\n",
    "df[\"Produto\"] = df[\"Produto\"].replace(\"GASOLINA COMUM\", \"GASOLINA\")\n",
    "df[\"Valor Abast.\"] = df[\"Valor Abast.\"].astype(str)\n",
    "df[\"Valor Abast.\"] = df[\"Valor Abast.\"].str.replace(\",\", \".\")\n",
    "df['Valor Abast.'] = df['Valor Abast.'].str.replace(\" \",\"\")\n",
    "df[\"Valor Abast.\"] = pd.to_numeric(df[\"Valor Abast.\"], errors=\"ignore\")\n",
    "df[\"Valor Abast.\"] = df[\"Valor Abast.\"].astype(float)\n",
    "df[\"Valor Abast.\"] = df[\"Valor Abast.\"].round(2)\n",
    "df['Data'] = df['Data'].dt.strftime('%d/%m/%Y')\n",
    "df"
   ]
  },
  {
   "cell_type": "code",
   "execution_count": 2,
   "metadata": {},
   "outputs": [
    {
     "data": {
      "application/vnd.jupyter.widget-view+json": {
       "model_id": "f9f9acd8f0144c39a2a557b114703c63",
       "version_major": 2,
       "version_minor": 0
      },
      "text/plain": [
       "HBox(children=(FloatProgress(value=0.0, description='Summarize dataset', max=21.0, style=ProgressStyle(descrip…"
      ]
     },
     "metadata": {},
     "output_type": "display_data"
    },
    {
     "name": "stdout",
     "output_type": "stream",
     "text": [
      "\n"
     ]
    },
    {
     "data": {
      "application/vnd.jupyter.widget-view+json": {
       "model_id": "e2eabdfbd7314239937111951f9e28b9",
       "version_major": 2,
       "version_minor": 0
      },
      "text/plain": [
       "HBox(children=(FloatProgress(value=0.0, description='Generate report structure', max=1.0, style=ProgressStyle(…"
      ]
     },
     "metadata": {},
     "output_type": "display_data"
    },
    {
     "name": "stderr",
     "output_type": "stream",
     "text": [
      "C:\\Users\\Lucas Menossi\\Anaconda3\\lib\\site-packages\\pandas_profiling\\visualisation\\plot.py:154: MatplotlibDeprecationWarning: You are modifying the state of a globally registered colormap. In future versions, you will not be able to modify a registered colormap in-place. To remove this warning, you can make a copy of the colormap first. cmap = copy.copy(mpl.cm.get_cmap(\"RdBu\"))\n",
      "  cmap.set_bad(cmap_bad)\n"
     ]
    },
    {
     "name": "stdout",
     "output_type": "stream",
     "text": [
      "\n"
     ]
    },
    {
     "data": {
      "application/vnd.jupyter.widget-view+json": {
       "model_id": "3672828921484ccda201cb154ad545a7",
       "version_major": 2,
       "version_minor": 0
      },
      "text/plain": [
       "HBox(children=(FloatProgress(value=0.0, description='Render HTML', max=1.0, style=ProgressStyle(description_wi…"
      ]
     },
     "metadata": {},
     "output_type": "display_data"
    },
    {
     "name": "stdout",
     "output_type": "stream",
     "text": [
      "\n"
     ]
    },
    {
     "data": {
      "application/vnd.jupyter.widget-view+json": {
       "model_id": "98b73d9db8f6490e942f57cc33d057c3",
       "version_major": 2,
       "version_minor": 0
      },
      "text/plain": [
       "HBox(children=(FloatProgress(value=0.0, description='Export report to file', max=1.0, style=ProgressStyle(desc…"
      ]
     },
     "metadata": {},
     "output_type": "display_data"
    },
    {
     "name": "stdout",
     "output_type": "stream",
     "text": [
      "\n"
     ]
    },
    {
     "ename": "FileNotFoundError",
     "evalue": "[Errno 2] No such file or directory: 'Pandas_Profiling\\\\201905-PP.html'",
     "output_type": "error",
     "traceback": [
      "\u001b[1;31m---------------------------------------------------------------------------\u001b[0m",
      "\u001b[1;31mFileNotFoundError\u001b[0m                         Traceback (most recent call last)",
      "\u001b[1;32m<ipython-input-2-eef5bb91fc6b>\u001b[0m in \u001b[0;36m<module>\u001b[1;34m\u001b[0m\n\u001b[0;32m     21\u001b[0m )\n\u001b[0;32m     22\u001b[0m \u001b[1;33m\u001b[0m\u001b[0m\n\u001b[1;32m---> 23\u001b[1;33m \u001b[0mprofile\u001b[0m\u001b[1;33m.\u001b[0m\u001b[0mto_file\u001b[0m\u001b[1;33m(\u001b[0m\u001b[1;34m\"Pandas_Profiling/201905-PP.html\"\u001b[0m\u001b[1;33m)\u001b[0m\u001b[1;33m\u001b[0m\u001b[1;33m\u001b[0m\u001b[0m\n\u001b[0m",
      "\u001b[1;32m~\\Anaconda3\\lib\\site-packages\\pandas_profiling\\profile_report.py\u001b[0m in \u001b[0;36mto_file\u001b[1;34m(self, output_file, silent)\u001b[0m\n\u001b[0;32m    257\u001b[0m             \u001b[0mtotal\u001b[0m\u001b[1;33m=\u001b[0m\u001b[1;36m1\u001b[0m\u001b[1;33m,\u001b[0m \u001b[0mdesc\u001b[0m\u001b[1;33m=\u001b[0m\u001b[1;34m\"Export report to file\"\u001b[0m\u001b[1;33m,\u001b[0m \u001b[0mdisable\u001b[0m\u001b[1;33m=\u001b[0m\u001b[0mdisable_progress_bar\u001b[0m\u001b[1;33m\u001b[0m\u001b[1;33m\u001b[0m\u001b[0m\n\u001b[0;32m    258\u001b[0m         ) as pbar:\n\u001b[1;32m--> 259\u001b[1;33m             \u001b[0moutput_file\u001b[0m\u001b[1;33m.\u001b[0m\u001b[0mwrite_text\u001b[0m\u001b[1;33m(\u001b[0m\u001b[0mdata\u001b[0m\u001b[1;33m,\u001b[0m \u001b[0mencoding\u001b[0m\u001b[1;33m=\u001b[0m\u001b[1;34m\"utf-8\"\u001b[0m\u001b[1;33m)\u001b[0m\u001b[1;33m\u001b[0m\u001b[1;33m\u001b[0m\u001b[0m\n\u001b[0m\u001b[0;32m    260\u001b[0m             \u001b[0mpbar\u001b[0m\u001b[1;33m.\u001b[0m\u001b[0mupdate\u001b[0m\u001b[1;33m(\u001b[0m\u001b[1;33m)\u001b[0m\u001b[1;33m\u001b[0m\u001b[1;33m\u001b[0m\u001b[0m\n\u001b[0;32m    261\u001b[0m \u001b[1;33m\u001b[0m\u001b[0m\n",
      "\u001b[1;32m~\\Anaconda3\\lib\\pathlib.py\u001b[0m in \u001b[0;36mwrite_text\u001b[1;34m(self, data, encoding, errors)\u001b[0m\n\u001b[0;32m   1223\u001b[0m             raise TypeError('data must be str, not %s' %\n\u001b[0;32m   1224\u001b[0m                             data.__class__.__name__)\n\u001b[1;32m-> 1225\u001b[1;33m         \u001b[1;32mwith\u001b[0m \u001b[0mself\u001b[0m\u001b[1;33m.\u001b[0m\u001b[0mopen\u001b[0m\u001b[1;33m(\u001b[0m\u001b[0mmode\u001b[0m\u001b[1;33m=\u001b[0m\u001b[1;34m'w'\u001b[0m\u001b[1;33m,\u001b[0m \u001b[0mencoding\u001b[0m\u001b[1;33m=\u001b[0m\u001b[0mencoding\u001b[0m\u001b[1;33m,\u001b[0m \u001b[0merrors\u001b[0m\u001b[1;33m=\u001b[0m\u001b[0merrors\u001b[0m\u001b[1;33m)\u001b[0m \u001b[1;32mas\u001b[0m \u001b[0mf\u001b[0m\u001b[1;33m:\u001b[0m\u001b[1;33m\u001b[0m\u001b[1;33m\u001b[0m\u001b[0m\n\u001b[0m\u001b[0;32m   1226\u001b[0m             \u001b[1;32mreturn\u001b[0m \u001b[0mf\u001b[0m\u001b[1;33m.\u001b[0m\u001b[0mwrite\u001b[0m\u001b[1;33m(\u001b[0m\u001b[0mdata\u001b[0m\u001b[1;33m)\u001b[0m\u001b[1;33m\u001b[0m\u001b[1;33m\u001b[0m\u001b[0m\n\u001b[0;32m   1227\u001b[0m \u001b[1;33m\u001b[0m\u001b[0m\n",
      "\u001b[1;32m~\\Anaconda3\\lib\\pathlib.py\u001b[0m in \u001b[0;36mopen\u001b[1;34m(self, mode, buffering, encoding, errors, newline)\u001b[0m\n\u001b[0;32m   1191\u001b[0m             \u001b[0mself\u001b[0m\u001b[1;33m.\u001b[0m\u001b[0m_raise_closed\u001b[0m\u001b[1;33m(\u001b[0m\u001b[1;33m)\u001b[0m\u001b[1;33m\u001b[0m\u001b[1;33m\u001b[0m\u001b[0m\n\u001b[0;32m   1192\u001b[0m         return io.open(self, mode, buffering, encoding, errors, newline,\n\u001b[1;32m-> 1193\u001b[1;33m                        opener=self._opener)\n\u001b[0m\u001b[0;32m   1194\u001b[0m \u001b[1;33m\u001b[0m\u001b[0m\n\u001b[0;32m   1195\u001b[0m     \u001b[1;32mdef\u001b[0m \u001b[0mread_bytes\u001b[0m\u001b[1;33m(\u001b[0m\u001b[0mself\u001b[0m\u001b[1;33m)\u001b[0m\u001b[1;33m:\u001b[0m\u001b[1;33m\u001b[0m\u001b[1;33m\u001b[0m\u001b[0m\n",
      "\u001b[1;32m~\\Anaconda3\\lib\\pathlib.py\u001b[0m in \u001b[0;36m_opener\u001b[1;34m(self, name, flags, mode)\u001b[0m\n\u001b[0;32m   1044\u001b[0m     \u001b[1;32mdef\u001b[0m \u001b[0m_opener\u001b[0m\u001b[1;33m(\u001b[0m\u001b[0mself\u001b[0m\u001b[1;33m,\u001b[0m \u001b[0mname\u001b[0m\u001b[1;33m,\u001b[0m \u001b[0mflags\u001b[0m\u001b[1;33m,\u001b[0m \u001b[0mmode\u001b[0m\u001b[1;33m=\u001b[0m\u001b[1;36m0o666\u001b[0m\u001b[1;33m)\u001b[0m\u001b[1;33m:\u001b[0m\u001b[1;33m\u001b[0m\u001b[1;33m\u001b[0m\u001b[0m\n\u001b[0;32m   1045\u001b[0m         \u001b[1;31m# A stub for the opener argument to built-in open()\u001b[0m\u001b[1;33m\u001b[0m\u001b[1;33m\u001b[0m\u001b[1;33m\u001b[0m\u001b[0m\n\u001b[1;32m-> 1046\u001b[1;33m         \u001b[1;32mreturn\u001b[0m \u001b[0mself\u001b[0m\u001b[1;33m.\u001b[0m\u001b[0m_accessor\u001b[0m\u001b[1;33m.\u001b[0m\u001b[0mopen\u001b[0m\u001b[1;33m(\u001b[0m\u001b[0mself\u001b[0m\u001b[1;33m,\u001b[0m \u001b[0mflags\u001b[0m\u001b[1;33m,\u001b[0m \u001b[0mmode\u001b[0m\u001b[1;33m)\u001b[0m\u001b[1;33m\u001b[0m\u001b[1;33m\u001b[0m\u001b[0m\n\u001b[0m\u001b[0;32m   1047\u001b[0m \u001b[1;33m\u001b[0m\u001b[0m\n\u001b[0;32m   1048\u001b[0m     \u001b[1;32mdef\u001b[0m \u001b[0m_raw_open\u001b[0m\u001b[1;33m(\u001b[0m\u001b[0mself\u001b[0m\u001b[1;33m,\u001b[0m \u001b[0mflags\u001b[0m\u001b[1;33m,\u001b[0m \u001b[0mmode\u001b[0m\u001b[1;33m=\u001b[0m\u001b[1;36m0o777\u001b[0m\u001b[1;33m)\u001b[0m\u001b[1;33m:\u001b[0m\u001b[1;33m\u001b[0m\u001b[1;33m\u001b[0m\u001b[0m\n",
      "\u001b[1;31mFileNotFoundError\u001b[0m: [Errno 2] No such file or directory: 'Pandas_Profiling\\\\201905-PP.html'"
     ]
    }
   ],
   "source": [
    "from pandas_profiling import ProfileReport\n",
    "\n",
    "profile = df.profile_report(\n",
    "      sort='ascending',\n",
    "      vars={\n",
    "          'num':{'low_categorical_threshold': 0},\n",
    "          'cat':{\n",
    "            'length':True,\n",
    "            'unicode':False,\n",
    "            'n_obs': 5,\n",
    "          }\n",
    "      }\n",
    ")\n",
    "\n",
    "profile.set_variable('variables.descriptions',\n",
    "    {\n",
    "      'files': 'Files in the filesystem',\n",
    "      'datec': 'Creation date',\n",
    "      'datem': 'Modification date',\n",
    "    }\n",
    ")\n",
    "\n",
    "profile.to_file(\"Pandas_Profiling/201905-PP.html\")"
   ]
  },
  {
   "cell_type": "code",
   "execution_count": null,
   "metadata": {},
   "outputs": [],
   "source": [
    "from pivottablejs import pivot_ui\n",
    "\n",
    "pivot_ui(df, outfile_path='PivottableJS/201905-PJS.html')"
   ]
  },
  {
   "cell_type": "code",
   "execution_count": null,
   "metadata": {},
   "outputs": [],
   "source": [
    "df[\"Nr Litros\"].mean()\n",
    "#df[\"Valor Abast.\"].std()\n",
    "#df[\"Valor Ajustado\"].std()"
   ]
  },
  {
   "cell_type": "code",
   "execution_count": null,
   "metadata": {
    "scrolled": true
   },
   "outputs": [],
   "source": [
    "df.sort_values(by=\"Nr Litros\")"
   ]
  },
  {
   "cell_type": "code",
   "execution_count": null,
   "metadata": {
    "scrolled": true
   },
   "outputs": [],
   "source": [
    "df[df[\"Nr Litros\"] > df[\"Nr Litros\"].mean()].sort_values(by=\"Nr Litros\", ascending=False)"
   ]
  },
  {
   "cell_type": "code",
   "execution_count": null,
   "metadata": {},
   "outputs": [],
   "source": [
    "df[(df[\"Nr Litros\"] > df[\"Nr Litros\"].mean()) & (df[\"Produto\"] == \"GASOLINA\")].sort_values(by=\"Nr Litros\", ascending=False)"
   ]
  },
  {
   "cell_type": "code",
   "execution_count": null,
   "metadata": {},
   "outputs": [],
   "source": [
    "dfg = df[df[\"Produto\"] == 'GASOLINA']\n",
    "dfe = df[df[\"Produto\"] == 'ETANOL']\n",
    "dfd = df[df[\"Produto\"] == 'DIESEL']"
   ]
  },
  {
   "cell_type": "code",
   "execution_count": null,
   "metadata": {},
   "outputs": [],
   "source": [
    "# Check if there is a vehicle that uses 'ETANOL' and 'DIESEL'\n",
    "dfc = dfd.merge(dfe['Placa'], left_on='Placa', right_on='Placa')\n",
    "dfc = df.merge(dfc['Placa'], left_on='Placa', right_on='Placa')\n",
    "dft = dfc.groupby([\"Placa\", \"Produto\"]).agg({'Valor Abast.': 'sum', 'Nr Litros': 'sum'})\n",
    "dft"
   ]
  },
  {
   "cell_type": "code",
   "execution_count": null,
   "metadata": {},
   "outputs": [],
   "source": [
    "# Check if there is a vehicle that uses 'GASOLINA' and 'DIESEL'\n",
    "dfc = dfd.merge(dfg['Placa'], left_on='Placa', right_on='Placa')\n",
    "dfc = df.merge(dfc['Placa'], left_on='Placa', right_on='Placa')\n",
    "dft = dfc.groupby([\"Placa\", \"Produto\"]).agg({'Valor Abast.': 'sum', 'Nr Litros': 'sum'})"
   ]
  },
  {
   "cell_type": "code",
   "execution_count": null,
   "metadata": {},
   "outputs": [],
   "source": [
    "# Check if there is vehicles that use 'GASOLINA' and 'ETANOL'\n",
    "dfg = df[df[\"Produto\"] == 'GASOLINA']\n",
    "dfe = df[df[\"Produto\"] == 'ETANOL']\n",
    "dfd = df[df[\"Produto\"] == 'DIESEL']\n",
    "dfc = dfg.merge(dfe['Placa'], left_on='Placa', right_on='Placa')\n",
    "dfc = dfc.drop_duplicates(subset=['Placa', 'Nr Litros'])\n",
    "dfc = df.merge(dfc['Placa'], left_on='Placa', right_on='Placa')\n",
    "dfc = dfc.drop_duplicates(subset=['Placa', 'Nr Litros'])\n",
    "dft = dfc.groupby(['Placa', 'Produto']).agg({'Valor Abast.': 'sum', 'Nr Litros': 'sum'})\n",
    "dft['Valor Litro'] = dft['Valor Abast.'] / dft['Nr Litros']\n",
    "dft['Valor Litro'] = dft['Valor Litro'].round(2)\n",
    "dft = dft.reset_index()\n",
    "dft"
   ]
  },
  {
   "cell_type": "code",
   "execution_count": null,
   "metadata": {
    "scrolled": false
   },
   "outputs": [],
   "source": [
    "#set ggplot style\n",
    "plt.style.use('ggplot')\n",
    "\n",
    "#create the figure and the axes\n",
    "fig, ax = plt.subplots()\n",
    "dftpg = dft[dft['Produto'] == 'GASOLINA']\n",
    "dftpe = dft[dft['Produto'] == 'ETANOL']\n",
    "\n",
    "#plot the data and get the average\n",
    "dftpg.plot(kind='bar', y = \"Nr Litros\", x =\"Placa\", rot = 0, ax=ax, figsize=(15, 5), color=(\"yellow\"))\n",
    "dftpe.plot(kind='bar', y = \"Nr Litros\", x =\"Placa\", rot = 0, ax=ax, figsize=(15, 5))\n",
    "\n",
    "#set limits and labels\n",
    "#avggas = dftpg[\"Valor Litro\"].mean()\n",
    "#ax.axvline(avggas, color='b', label='Média', linestyle='--', linewidth=1)\n",
    "#avgeta = dftpg[\"Valor Litro\"].mean()\n",
    "#ax.axvline(avgeta, color='g', label='Média', linestyle='--', linewidth=1)\n",
    "ax.legend([\"Número de Litros Gasolina\", \"Número de Litros Etanol\", \"Valor por Litro Gasolina\"])\n",
    "ax.set(title='Placa x Número de Litros 05/2019', xlabel='Placa', ylabel='Número de Litros')"
   ]
  },
  {
   "cell_type": "code",
   "execution_count": null,
   "metadata": {},
   "outputs": [],
   "source": [
    "dft.groupby(['Placa', 'Produto'])['Valor Abast.'].mean().unstack().plot.bar()"
   ]
  },
  {
   "cell_type": "code",
   "execution_count": null,
   "metadata": {},
   "outputs": [],
   "source": [
    "dft.groupby(['Placa', 'Produto'])['Nr Litros'].mean().unstack().plot.bar()"
   ]
  },
  {
   "cell_type": "code",
   "execution_count": null,
   "metadata": {},
   "outputs": [],
   "source": [
    "fig, ax = plt.subplots()\n",
    "dft.groupby(['Placa', 'Produto'])['Valor Litro'].mean().unstack().plot(kind=\"bar\", ax=ax, color=['g', 'r'],figsize=(15,7))\n",
    "\n",
    "avggas = dftpg[\"Valor Litro\"].mean()\n",
    "ax.axhline(avggas, color='r', label='Média', linestyle='--', linewidth=1)\n",
    "avgeta = dftpe[\"Valor Litro\"].mean()\n",
    "ax.axhline(avgeta, color='g', label='Média', linestyle='--', linewidth=1)\n",
    "worthGas = avggas * 0.7\n",
    "ax.axhline(worthGas, color='purple', label='Média', linestyle='--', linewidth=1)\n",
    "ax.legend([\"Valor por Litro Gasolina\", \"Valor por Litro Etanol\", \"Ponto de Compensar\", 'Etanol', 'Gasolina'])\n",
    "ax.set(title='Placa x Valor por Litro 05/2019', xlabel='Placa', ylabel='Valor por Litro')"
   ]
  },
  {
   "cell_type": "code",
   "execution_count": null,
   "metadata": {},
   "outputs": [],
   "source": [
    "#set ggplot style\n",
    "plt.style.use('ggplot')\n",
    "\n",
    "#create the figure and the axes\n",
    "fig, ax = plt.subplots()\n",
    "dftpg = dft[dft['Produto'] == 'GASOLINA']\n",
    "dftpe = dft[dft['Produto'] == 'ETANOL']\n",
    "\n",
    "#plot the data and get the average\n",
    "dftpg.plot(kind='barh', y = \"Valor Litro\", x =\"Placa\", rot = 0, ax=ax,)\n",
    "dftpe.plot(kind='barh', y = \"Valor Litro\", x =\"Placa\", rot = 0, ax=ax, color='green')\n",
    "\n",
    "#set limits and labels\n",
    "avggas = dftpg[\"Valor Litro\"].mean()\n",
    "ax.axvline(avggas, color='b', label='Média', linestyle='--', linewidth=1)\n",
    "avgeta = dftpe[\"Valor Litro\"].mean()\n",
    "ax.axvline(avgeta, color='g', label='Média', linestyle='--', linewidth=1)\n",
    "worthGas = avggas * 0.7\n",
    "ax.axvline(worthGas, color='black', label='Média', linestyle='--', linewidth=1)\n",
    "\n",
    "ax.legend([\"Valor por Litro Gasolina\", \"Valor por Litro Etanol\", \"Ponto de Compensar\", 'Gasolina', 'Etanol'])\n",
    "ax.set(title='Placa x Valor por Litro 05/2019', xlabel='Placa', ylabel='Valor por Litro')\n",
    "#ax1.legend([\"Valor por Litro Gasolina\", \"Número de Litros Etanol\"])\n",
    "#ax1.set(title='Placa x Número de Litros 05/2019 Etanol', xlabel='Placa', ylabel='Número de Litros')"
   ]
  },
  {
   "cell_type": "code",
   "execution_count": null,
   "metadata": {},
   "outputs": [],
   "source": [
    "df[\"Produto\"].value_counts()"
   ]
  },
  {
   "cell_type": "code",
   "execution_count": null,
   "metadata": {},
   "outputs": [],
   "source": [
    "avgeta = dftpe[\"Valor Litro\"].mean()\n",
    "avgeta"
   ]
  },
  {
   "cell_type": "code",
   "execution_count": null,
   "metadata": {},
   "outputs": [],
   "source": [
    "df[\"Produto\"].value_counts(normalize=True)"
   ]
  },
  {
   "cell_type": "code",
   "execution_count": null,
   "metadata": {},
   "outputs": [],
   "source": [
    "#Ploting\n",
    "plt.rcParams.update({'font.size': 10, 'figure.figsize': (10, 8)})\n",
    "#Gráfico de barras em relação ao número de litros\n",
    "df[\"Nr Litros\"].plot(kind='hist', title=\"Nr Litros\")"
   ]
  },
  {
   "cell_type": "code",
   "execution_count": null,
   "metadata": {},
   "outputs": [],
   "source": [
    "df[\"Valor Abast.\"].plot(kind='hist', title = \"Valor Abastecido\")"
   ]
  },
  {
   "cell_type": "code",
   "execution_count": null,
   "metadata": {},
   "outputs": [],
   "source": [
    "df[\"Nr Litros\"].describe()"
   ]
  },
  {
   "cell_type": "code",
   "execution_count": null,
   "metadata": {},
   "outputs": [],
   "source": [
    "df[\"Nr Litros\"].plot(kind=\"box\")"
   ]
  },
  {
   "cell_type": "code",
   "execution_count": null,
   "metadata": {},
   "outputs": [],
   "source": [
    "df.plot(kind='scatter', x = \"Valor Abast.\", y=\"Nr Litros\", title=\"Valor Abast. x Nr Litros\")"
   ]
  },
  {
   "cell_type": "code",
   "execution_count": null,
   "metadata": {
    "scrolled": true
   },
   "outputs": [],
   "source": [
    "df.boxplot(column=\"Nr Litros\", by=\"Produto\")"
   ]
  },
  {
   "cell_type": "code",
   "execution_count": null,
   "metadata": {},
   "outputs": [],
   "source": [
    "plt.rcParams.update({'font.size': 10, 'figure.figsize': (20, 8)})\n",
    "ax = plt.gca()\n",
    "df.plot(kind='line', x = \"Data\", y = \"Nr Litros\", ax=ax)\n",
    "df.plot(kind='line', x = \"Data\", y = \"Valor Abast.\", ax=ax)"
   ]
  },
  {
   "cell_type": "code",
   "execution_count": null,
   "metadata": {},
   "outputs": [],
   "source": [
    "labels = df[\"Produto\"].unique()\n",
    "sizes = df[\"Produto\"].value_counts()\n",
    "\n",
    "fig1, ax1 = plt.subplots()\n",
    "ax1.pie(sizes, labels = labels, autopct = '%1.1f%%' ,shadow = True, startangle=90)\n",
    "ax1.axis('equal')\n",
    "plt.show()"
   ]
  },
  {
   "cell_type": "code",
   "execution_count": null,
   "metadata": {},
   "outputs": [],
   "source": [
    "labels = [\"Abaixo\", \"Acima\"]\n",
    "teste = df[\"Nr Litros\"] >= df[\"Nr Litros\"].mean()\n",
    "sizes = teste.value_counts()\n",
    "\n",
    "fig1, ax1 = plt.subplots()\n",
    "ax1.pie(sizes, labels = labels, autopct = '%1.1f%%' ,shadow = True, startangle=90)\n",
    "ax1.axis('equal')\n",
    "plt.show()"
   ]
  },
  {
   "cell_type": "code",
   "execution_count": null,
   "metadata": {},
   "outputs": [],
   "source": [
    "labels = [\"Abaixo\", \"Acima\"]\n",
    "teste = df[\"Placa\"].value_counts() >= df[\"Placa\"].value_counts().mean()\n",
    "sizes = teste.value_counts()\n",
    "\n",
    "fig1, ax1 = plt.subplots()\n",
    "ax1.pie(sizes, labels = labels, autopct = '%1.1f%%' ,shadow = True, startangle=90)\n",
    "ax1.axis('equal')\n",
    "plt.show()"
   ]
  },
  {
   "cell_type": "code",
   "execution_count": null,
   "metadata": {},
   "outputs": [],
   "source": [
    "labels = [\"Abaixo\", \"Acima\"]\n",
    "teste = df[\"Valor Abast.\"] >= df[\"Valor Abast.\"].mean()\n",
    "sizes = teste.value_counts()\n",
    "\n",
    "fig1, ax1 = plt.subplots()\n",
    "ax1.pie(sizes, labels = labels, autopct = '%1.1f%%' ,shadow = True, startangle=90)\n",
    "ax1.axis('equal')\n",
    "plt.show()"
   ]
  },
  {
   "cell_type": "code",
   "execution_count": null,
   "metadata": {},
   "outputs": [],
   "source": [
    "top_10_g = df[df[\"Produto\"] == \"GASOLINA\"]\n",
    "top_10_d = df[df[\"Produto\"] == \"DIESEL\"]\n",
    "top_10_e = df[df[\"Produto\"] == \"ETANOL\"]\n",
    "#set ggplot style\n",
    "plt.style.use('ggplot')\n",
    "\n",
    "#plot data GASOLINA\n",
    "top_10_g = (top_10_g.groupby('Placa')['Valor Abast.', 'Nr Litros'].agg({'Valor Abast.': 'sum', 'Nr Litros': 'sum'})\n",
    "          .sort_values(by='Valor Abast.', ascending=False))[:10].reset_index()\n",
    "top_10_g.rename(columns={'Placa': 'Placa', 'Valor Abast.': 'Valor Abastecido', 'Nr Litros': 'Número de Litros'}, inplace=True)\n",
    "\n",
    "#plot data DIESEL\n",
    "top_10_d = (top_10_d.groupby('Placa')['Valor Abast.', 'Nr Litros'].agg({'Valor Abast.': 'sum', 'Nr Litros': 'sum'})\n",
    "          .sort_values(by='Valor Abast.', ascending=False))[:10].reset_index()\n",
    "top_10_d.rename(columns={'Placa': 'Placa', 'Valor Abast.': 'Valor Abastecido', 'Nr Litros': 'Número de Litros'}, inplace=True)\n",
    "\n",
    "#plot data ETANOL\n",
    "top_10_e = (top_10_e.groupby('Placa')['Valor Abast.', 'Nr Litros'].agg({'Valor Abast.': 'sum', 'Nr Litros': 'sum'})\n",
    "          .sort_values(by='Valor Abast.', ascending=False))[:10].reset_index()\n",
    "top_10_e.rename(columns={'Placa': 'Placa', 'Valor Abast.': 'Valor Abastecido', 'Nr Litros': 'Número de Litros'}, inplace=True)\n",
    "\n",
    "#plot the data and get the average\n",
    "fig, (ax0, ax1, ax2) = plt.subplots(nrows=1,ncols=3, sharey=True, figsize=(20, 10))\n",
    "#plot GASOLINA\n",
    "top_10_g.plot(kind='bar', y=\"Valor Abastecido\", x=\"Placa\", ax=ax0)\n",
    "ax0.set(title='GASOLINA', xlabel='Placa do Veículo', ylabel='Valor Total Abastecido')\n",
    "#plot DIESEL\n",
    "top_10_d.plot(kind='bar', y=\"Valor Abastecido\", x=\"Placa\", ax=ax1)\n",
    "ax1.set(title='DIESEL', xlabel='Placa do Veículo', ylabel='')\n",
    "#plot ETANOL\n",
    "top_10_e.plot(kind='bar', y=\"Valor Abastecido\", x=\"Placa\", ax=ax2)\n",
    "ax2.set(title='ETANOL', xlabel='Placa do Veículo', ylabel='')\n",
    "\n",
    "#set limits and labels\n",
    "#ax.set(title='As 10 placas com maior gasto de combustível em Janeiro de 2019 por tipo', xlabel='Placa do Veículo', ylabel='Valor Abastecido Total')\n",
    "fig.suptitle('As 10 placas com maior gasto de combustível em Janeiro de 2019 por tipo', fontsize=14, fontweight='bold')\n",
    "    \n",
    "#hide the legend\n",
    "ax2.legend().set_visible(False)\n",
    "ax1.legend().set_visible(False)\n",
    "ax0.legend().set_visible(False)"
   ]
  },
  {
   "cell_type": "code",
   "execution_count": null,
   "metadata": {},
   "outputs": [],
   "source": [
    "top_10_g = df[df[\"Produto\"] == \"GASOLINA\"]\n",
    "top_10_d = df[df[\"Produto\"] == \"DIESEL\"]\n",
    "top_10_e = df[df[\"Produto\"] == \"ETANOL\"]\n",
    "\n",
    "#set ggplot style\n",
    "plt.style.use('ggplot')\n",
    "\n",
    "#plot data GASOLINA\n",
    "top_10_g = (top_10_g.groupby('Data')['Valor Abast.', 'Nr Litros'].agg({'Valor Abast.': 'count', 'Nr Litros': 'count'})\n",
    "          .sort_values(by='Valor Abast.', ascending=False))[:10].reset_index()\n",
    "top_10_g.rename(columns={'Data': 'Data', 'Valor Abast.': 'Valor Abastecido', 'Nr Litros': 'Número de Litros'}, inplace=True)\n",
    "\n",
    "#plot data DIESEL\n",
    "top_10_d = (top_10_d.groupby('Data')['Valor Abast.', 'Nr Litros'].agg({'Valor Abast.': 'count', 'Nr Litros': 'count'})\n",
    "          .sort_values(by='Valor Abast.', ascending=False))[:10].reset_index()\n",
    "top_10_d.rename(columns={'Data': 'Data', 'Valor Abast.': 'Valor Abastecido', 'Nr Litros': 'Número de Litros'}, inplace=True)\n",
    "\n",
    "#plot data ETANOL\n",
    "top_10_e = (top_10_e.groupby('Data')['Valor Abast.', 'Nr Litros'].agg({'Valor Abast.': 'count', 'Nr Litros': 'count'})\n",
    "          .sort_values(by='Valor Abast.', ascending=False))[:10].reset_index()\n",
    "top_10_e.rename(columns={'Data': 'Data', 'Valor Abast.': 'Valor Abastecido', 'Nr Litros': 'Número de Litros'}, inplace=True)\n",
    "\n",
    "#create the figure and the axes\n",
    "fig, (ax0, ax1, ax2) = plt.subplots(nrows=1,ncols=3, sharey=True, figsize=(20, 10))\n",
    "\n",
    "#plot GASOLINA\n",
    "top_10_g.plot(kind='bar', y = \"Valor Abastecido\", x =\"Data\", ax=ax0)\n",
    "ax0.set(title=\"GASOLINA\", xlabel='Data', ylabel='Número de Abastecimentos')\n",
    "\n",
    "#plot DIESEL\n",
    "top_10_d.plot(kind='bar', y = \"Valor Abastecido\", x =\"Data\", ax=ax1)\n",
    "ax1.set(title=\"DIESEL\", xlabel='Data', ylabel='')\n",
    "\n",
    "#plot ETANOL\n",
    "top_10_e.plot(kind='bar', y = \"Valor Abastecido\", x =\"Data\", ax=ax2)\n",
    "ax2.set(title=\"ETANOL\", xlabel='Data', ylabel='')\n",
    "\n",
    "#set limits and labels\n",
    "fig.suptitle('Os 10 dias com maior número de abastecimentos por tipo de combustível', fontsize=14, fontweight='bold')\n",
    "\n",
    "#hide the legend\n",
    "ax0.legend().set_visible(False)\n",
    "ax1.legend().set_visible(False)\n",
    "ax2.legend().set_visible(False)"
   ]
  },
  {
   "cell_type": "code",
   "execution_count": null,
   "metadata": {},
   "outputs": [],
   "source": [
    "#get the figure and the axes\n",
    "top_10 = df[df[\"Produto\"] == \"GASOLINA\"]\n",
    "\n",
    "#plot data GASOLINA\n",
    "top_10 = (top_10.groupby('Placa')['Valor Abast.', 'Nr Litros'].agg({'Valor Abast.': 'sum', 'Nr Litros': 'sum'})\n",
    "          .sort_values(by='Valor Abast.', ascending=False))[:10].reset_index()\n",
    "top_10.rename(columns={'Placa': 'Placa', 'Valor Abast.': 'Valor Abastecido', 'Nr Litros': 'Número de Litros'}, inplace=True)\n",
    "\n",
    "fig, (ax0, ax1) = plt.subplots(nrows=1,ncols=2, sharey=True, figsize=(20, 7))\n",
    "top_10.plot(kind='barh', y=\"Valor Abastecido\", x=\"Placa\", ax=ax0)\n",
    "ax0.set(title='Valor Abastecido', xlabel='Valor Total Abastecido', ylabel='Placa')\n",
    "\n",
    "#plot the average as a vertical line\n",
    "avg = top_10['Valor Abastecido'].mean()\n",
    "ax0.axvline(x=avg, color='b', label='Média', linestyle='--', linewidth=1)\n",
    "\n",
    "#repeat for the Nr Litros plot\n",
    "top_10.plot(kind='barh', y=\"Número de Litros\", x=\"Placa\", ax=ax1)\n",
    "avg = top_10['Número de Litros'].mean()\n",
    "ax1.set(title='Número de Litros', xlabel='Número de Litros Total', ylabel='')\n",
    "ax1.axvline(x=avg, color='b', label='Média', linestyle='--', linewidth=1)\n",
    "\n",
    "#title the figure\n",
    "fig.suptitle('Gastos por placa do mês de Janeiro de 2019 (GASOLINA)', fontsize=14, fontweight='bold')\n",
    "\n",
    "#hide the legend\n",
    "ax1.legend().set_visible(False)\n",
    "ax0.legend().set_visible(False)"
   ]
  },
  {
   "cell_type": "code",
   "execution_count": null,
   "metadata": {},
   "outputs": [],
   "source": [
    "#get the figure and the axes\n",
    "top_10 = df[df[\"Produto\"] == \"ETANOL\"]\n",
    "\n",
    "#plot data GASOLINA\n",
    "top_10 = (top_10.groupby('Placa')['Valor Abast.', 'Nr Litros'].agg({'Valor Abast.': 'sum', 'Nr Litros': 'sum'})\n",
    "          .sort_values(by='Valor Abast.', ascending=False))[:10].reset_index()\n",
    "top_10.rename(columns={'Placa': 'Placa', 'Valor Abast.': 'Valor Abastecido', 'Nr Litros': 'Número de Litros'}, inplace=True)\n",
    "\n",
    "fig, (ax0, ax1) = plt.subplots(nrows=1,ncols=2, sharey=True, figsize=(20, 7))\n",
    "top_10.plot(kind='barh', y=\"Valor Abastecido\", x=\"Placa\", ax=ax0)\n",
    "ax0.set(title='Valor Abastecido', xlabel='Valor Total Abastecido', ylabel='Placa')\n",
    "\n",
    "#plot the average as a vertical line\n",
    "avg = top_10['Valor Abastecido'].mean()\n",
    "ax0.axvline(x=avg, color='b', label='Média', linestyle='--', linewidth=1)\n",
    "\n",
    "#repeat for the Nr Litros plot\n",
    "top_10.plot(kind='barh', y=\"Número de Litros\", x=\"Placa\", ax=ax1)\n",
    "avg = top_10['Número de Litros'].mean()\n",
    "ax1.set(title='Número de Litros', xlabel='Número de Litros Total', ylabel='')\n",
    "ax1.axvline(x=avg, color='b', label='Média', linestyle='--', linewidth=1)\n",
    "\n",
    "#title the figure\n",
    "fig.suptitle('Gastos por placa do mês de Janeiro de 2019 (ETANOL)', fontsize=14, fontweight='bold')\n",
    "\n",
    "#hide the legend\n",
    "ax1.legend().set_visible(False)\n",
    "ax0.legend().set_visible(False)"
   ]
  },
  {
   "cell_type": "code",
   "execution_count": null,
   "metadata": {},
   "outputs": [],
   "source": [
    "#get the figure and the axes\n",
    "top_10 = df[df[\"Produto\"] == \"DIESEL\"]\n",
    "\n",
    "#plot data GASOLINA\n",
    "top_10 = (top_10.groupby('Placa')['Valor Abast.', 'Nr Litros'].agg({'Valor Abast.': 'sum', 'Nr Litros': 'sum'})\n",
    "          .sort_values(by='Valor Abast.', ascending=False))[:10].reset_index()\n",
    "top_10.rename(columns={'Placa': 'Placa', 'Valor Abast.': 'Valor Abastecido', 'Nr Litros': 'Número de Litros'}, inplace=True)\n",
    "\n",
    "fig, (ax0, ax1) = plt.subplots(nrows=1,ncols=2, sharey=True, figsize=(20, 7))\n",
    "top_10.plot(kind='barh', y=\"Valor Abastecido\", x=\"Placa\", ax=ax0)\n",
    "ax0.set(title='Valor Abastecido', xlabel='Valor Total Abastecido', ylabel='Placa')\n",
    "\n",
    "#plot the average as a vertical line\n",
    "avg = top_10['Valor Abastecido'].mean()\n",
    "ax0.axvline(x=avg, color='b', label='Média', linestyle='--', linewidth=1)\n",
    "\n",
    "#repeat for the Nr Litros plot\n",
    "top_10.plot(kind='barh', y=\"Número de Litros\", x=\"Placa\", ax=ax1)\n",
    "avg = top_10['Número de Litros'].mean()\n",
    "ax1.set(title='Número de Litros', xlabel='Número de Litros Total', ylabel='')\n",
    "ax1.axvline(x=avg, color='b', label='Média', linestyle='--', linewidth=1)\n",
    "\n",
    "#title the figure\n",
    "fig.suptitle('Gastos por placa do mês de Janeiro de 2019 (DIESEL)', fontsize=14, fontweight='bold')\n",
    "\n",
    "#hide the legend\n",
    "ax1.legend().set_visible(False)\n",
    "ax0.legend().set_visible(False)"
   ]
  },
  {
   "cell_type": "code",
   "execution_count": null,
   "metadata": {},
   "outputs": [],
   "source": [
    "#set ggplot style\n",
    "plt.style.use('ggplot')\n",
    "\n",
    "#plot data\n",
    "top_10 = (df.groupby('Tipo')['Valor Abast.', 'Nr Litros'].agg({'Valor Abast.': 'sum', 'Nr Litros': 'sum'})\n",
    "          .sort_values(by='Valor Abast.', ascending=False))[:10].reset_index()\n",
    "top_10.rename(columns={'Tipo': 'Tipo', 'Valor Abast.': 'Valor Abastecido', 'Nr Litros': 'Número de Litros'}, inplace=True)\n",
    "\n",
    "#create the figure and the axes\n",
    "fig, ax = plt.subplots()\n",
    "\n",
    "#plot the data and get the average\n",
    "top_10.plot(kind='bar', y = \"Valor Abastecido\", x =\"Tipo\", rot = 0, ax=ax)\n",
    "avg = top_10['Valor Abastecido'].mean()\n",
    "\n",
    "#set limits and labels\n",
    "ax.set(title='Tipo x Valor Abastecido', xlabel=' Tipo', ylabel='Valor')\n",
    "\n",
    "#hide the legend\n",
    "ax.legend().set_visible(False)"
   ]
  },
  {
   "cell_type": "code",
   "execution_count": null,
   "metadata": {},
   "outputs": [],
   "source": [
    "#set ggplot style\n",
    "plt.style.use('ggplot')\n",
    "\n",
    "#plot data\n",
    "top_10 = (df.groupby('Produto')['Valor Abast.', 'Nr Litros'].agg({'Valor Abast.': 'sum', 'Nr Litros': 'sum'})\n",
    "          .sort_values(by='Valor Abast.', ascending=False))[:10].reset_index()\n",
    "top_10.rename(columns={'Produto': 'Produto', 'Valor Abast.': 'Valor Abastecido', 'Nr Litros': 'Número de Litros'}, inplace=True)\n",
    "\n",
    "#create the figure and the axes\n",
    "fig, (ax0, ax1) = plt.subplots(nrows=1,ncols=2, sharey=False, figsize=(20, 7))\n",
    "\n",
    "#plot the data and get the average\n",
    "top_10.plot(kind='bar', y = \"Valor Abastecido\", x =\"Produto\", rot = 0, ax=ax0)\n",
    "#set limits and labels\n",
    "ax0.set(title='Valor Abastecido', xlabel='Produto', ylabel='Valor')\n",
    "\n",
    "#plot the data and get the average\n",
    "top_10.plot(kind='bar', y = \"Número de Litros\", x =\"Produto\", rot = 0, ax=ax1)\n",
    "#set limits and labels\n",
    "ax1.set(title='Número de Litros', xlabel='Produto', ylabel='Valor')\n",
    "\n",
    "#title the figure\n",
    "fig.suptitle('Relação Produto x Valor Abastecido e Número de Litros', fontsize=14, fontweight='bold')\n",
    "\n",
    "#hide the legend\n",
    "ax0.legend().set_visible(False)\n",
    "ax1.legend().set_visible(False)"
   ]
  },
  {
   "cell_type": "code",
   "execution_count": null,
   "metadata": {},
   "outputs": [],
   "source": [
    "#set ggplot style\n",
    "plt.style.use('ggplot')\n",
    "\n",
    "#plot data\n",
    "top_10 = (df.groupby('Produto')['Valor Abast.', 'Nr Litros'].agg({'Valor Abast.': 'mean', 'Nr Litros': 'mean'})\n",
    "          .sort_values(by='Valor Abast.', ascending=False))[:10].reset_index()\n",
    "top_10.rename(columns={'Produto': 'Produto', 'Valor Abast.': 'Valor Abastecido', 'Nr Litros': 'Número de Litros'}, inplace=True)\n",
    "\n",
    "#create the figure and the axes\n",
    "fig, (ax0, ax1) = plt.subplots(nrows=1,ncols=2, sharey=False, figsize=(20, 7))\n",
    "\n",
    "#plot the data and get the average\n",
    "top_10.plot(kind='bar', y = \"Valor Abastecido\", x =\"Produto\", rot = 0, ax=ax0)\n",
    "#set limits and labels\n",
    "ax0.set(title='Valor Abastecido', xlabel='Produto', ylabel='Valor')\n",
    "\n",
    "#plot the data and get the average\n",
    "top_10.plot(kind='bar', y = \"Número de Litros\", x =\"Produto\", rot = 0, ax=ax1)\n",
    "#set limits and labels\n",
    "ax1.set(title='Número de Litros', xlabel='Produto', ylabel='Valor')\n",
    "\n",
    "#title the figure\n",
    "fig.suptitle('Relação Produto x Valor Abastecido e Número de Litros Médio', fontsize=14, fontweight='bold')\n",
    "\n",
    "#hide the legend\n",
    "ax0.legend().set_visible(False)\n",
    "ax1.legend().set_visible(False)"
   ]
  },
  {
   "cell_type": "code",
   "execution_count": null,
   "metadata": {},
   "outputs": [],
   "source": [
    "#set ggplot style\n",
    "plt.style.use('ggplot')\n",
    "\n",
    "#plot data\n",
    "top_10 = (df.groupby('Produto')['Valor Abast.', 'Nr Litros'].agg({'Valor Abast.': 'std', 'Nr Litros': 'std'})\n",
    "          .sort_values(by='Valor Abast.', ascending=False))[:10].reset_index()\n",
    "top_10.rename(columns={'Produto': 'Produto', 'Valor Abast.': 'Valor Abastecido', 'Nr Litros': 'Número de Litros'}, inplace=True)\n",
    "\n",
    "#create the figure and the axes\n",
    "fig, (ax0, ax1) = plt.subplots(nrows=1,ncols=2, sharey=False, figsize=(20, 7))\n",
    "\n",
    "#plot the data and get the average\n",
    "top_10.plot(kind='bar', y = \"Valor Abastecido\", x =\"Produto\", rot = 0, ax=ax0)\n",
    "#set limits and labels\n",
    "ax0.set(title='Valor Abastecido', xlabel='Produto', ylabel='Valor')\n",
    "\n",
    "#plot the data and get the average\n",
    "top_10.plot(kind='bar', y = \"Número de Litros\", x =\"Produto\", rot = 0, ax=ax1)\n",
    "#set limits and labels\n",
    "ax1.set(title='Número de Litros', xlabel='Produto', ylabel='Valor')\n",
    "\n",
    "#title the figure\n",
    "fig.suptitle('Relação Produto x Desvio Padrão do Valor Abastecido e Número de Litros', fontsize=14, fontweight='bold')\n",
    "\n",
    "#hide the legend\n",
    "ax0.legend().set_visible(False)\n",
    "ax1.legend().set_visible(False)"
   ]
  },
  {
   "cell_type": "code",
   "execution_count": null,
   "metadata": {},
   "outputs": [],
   "source": []
  }
 ],
 "metadata": {
  "kernelspec": {
   "display_name": "Python 3",
   "language": "python",
   "name": "python3"
  },
  "language_info": {
   "codemirror_mode": {
    "name": "ipython",
    "version": 3
   },
   "file_extension": ".py",
   "mimetype": "text/x-python",
   "name": "python",
   "nbconvert_exporter": "python",
   "pygments_lexer": "ipython3",
   "version": "3.7.4"
  }
 },
 "nbformat": 4,
 "nbformat_minor": 2
}
